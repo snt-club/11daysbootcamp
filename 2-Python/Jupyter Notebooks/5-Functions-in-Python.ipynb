{
 "cells": [
  {
   "cell_type": "markdown",
   "metadata": {},
   "source": [
    "# Functions in Python\n",
    "> A function in any language is similar to that in mathematics\n",
    "#### Defination: \n",
    "> A function is a block of code executing specified task only when it is called and return some result.\n"
   ]
  },
  {
   "cell_type": "markdown",
   "metadata": {},
   "source": [
    "## 1. Defining Function\n",
    "     def function_name(parameters):\n",
    "            statments(s)\n",
    "'parameters' and 'return' in a function are optional"
   ]
  },
  {
   "cell_type": "markdown",
   "metadata": {},
   "source": [
    "#### Parameter or argument?\n",
    "The terms 'parameter' and 'argument' are used for same, information passed in the function"
   ]
  },
  {
   "cell_type": "markdown",
   "metadata": {},
   "source": [
    "### 1.1 with no parameters  and no return type:\n",
    "    def function_name():\n",
    "        statments()"
   ]
  },
  {
   "cell_type": "code",
   "execution_count": 2,
   "metadata": {},
   "outputs": [
    {
     "name": "stdout",
     "output_type": "stream",
     "text": [
      "hello\n"
     ]
    }
   ],
   "source": [
    "def hello():     #    its work initiated\n",
    "    print(\"hello\")#           ^\n",
    "          #                   |\n",
    "hello()   # Here we called the function with its name and there"
   ]
  },
  {
   "cell_type": "markdown",
   "metadata": {},
   "source": [
    "###  1.2 with one parameter and no return type:\n",
    "    def function_name(param1):\n",
    "        stat(param1)\n",
    "       "
   ]
  },
  {
   "cell_type": "code",
   "execution_count": 3,
   "metadata": {},
   "outputs": [
    {
     "name": "stdout",
     "output_type": "stream",
     "text": [
      "hello1\n",
      "[2, 4, 53]\n"
     ]
    }
   ],
   "source": [
    "def hello1(param1):\n",
    "    print(param1)\n",
    "    \n",
    "hello1(\"hello1\")\n",
    "\n",
    "## parameter can be of any data type\n",
    "\n",
    "def listFunction(l):\n",
    "    print(l)\n",
    "a = [2,4,53]\n",
    "listFunction(a)"
   ]
  },
  {
   "cell_type": "markdown",
   "metadata": {},
   "source": [
    "But remember one thing the number of parameters should be equal on both calling time and defination time"
   ]
  },
  {
   "cell_type": "code",
   "execution_count": 4,
   "metadata": {},
   "outputs": [
    {
     "ename": "TypeError",
     "evalue": "misMatch() missing 1 required positional argument: 'c'",
     "output_type": "error",
     "traceback": [
      "\u001b[1;31m---------------------------------------------------------------------------\u001b[0m",
      "\u001b[1;31mTypeError\u001b[0m                                 Traceback (most recent call last)",
      "\u001b[1;32m<ipython-input-4-9f4977e4a5f3>\u001b[0m in \u001b[0;36m<module>\u001b[1;34m\u001b[0m\n\u001b[0;32m      1\u001b[0m \u001b[1;32mdef\u001b[0m \u001b[0mmisMatch\u001b[0m\u001b[1;33m(\u001b[0m\u001b[0ma\u001b[0m\u001b[1;33m,\u001b[0m\u001b[0mb\u001b[0m\u001b[1;33m,\u001b[0m\u001b[0mc\u001b[0m\u001b[1;33m)\u001b[0m\u001b[1;33m:\u001b[0m\u001b[1;33m\u001b[0m\u001b[1;33m\u001b[0m\u001b[0m\n\u001b[0;32m      2\u001b[0m     \u001b[0mprint\u001b[0m\u001b[1;33m(\u001b[0m\u001b[0ma\u001b[0m\u001b[1;33m,\u001b[0m\u001b[0mb\u001b[0m\u001b[1;33m,\u001b[0m\u001b[0mc\u001b[0m\u001b[1;33m)\u001b[0m\u001b[1;33m\u001b[0m\u001b[1;33m\u001b[0m\u001b[0m\n\u001b[1;32m----> 3\u001b[1;33m \u001b[0mmisMatch\u001b[0m\u001b[1;33m(\u001b[0m\u001b[1;36m4\u001b[0m\u001b[1;33m,\u001b[0m\u001b[1;36m5\u001b[0m\u001b[1;33m)\u001b[0m\u001b[1;33m\u001b[0m\u001b[1;33m\u001b[0m\u001b[0m\n\u001b[0m",
      "\u001b[1;31mTypeError\u001b[0m: misMatch() missing 1 required positional argument: 'c'"
     ]
    }
   ],
   "source": [
    "def misMatch(a,b,c):\n",
    "    print(a,b,c)\n",
    "misMatch(4,5)"
   ]
  },
  {
   "cell_type": "code",
   "execution_count": 5,
   "metadata": {},
   "outputs": [
    {
     "ename": "TypeError",
     "evalue": "misMatch() takes 2 positional arguments but 3 were given",
     "output_type": "error",
     "traceback": [
      "\u001b[1;31m---------------------------------------------------------------------------\u001b[0m",
      "\u001b[1;31mTypeError\u001b[0m                                 Traceback (most recent call last)",
      "\u001b[1;32m<ipython-input-5-2e92f08658cf>\u001b[0m in \u001b[0;36m<module>\u001b[1;34m\u001b[0m\n\u001b[0;32m      1\u001b[0m \u001b[1;32mdef\u001b[0m \u001b[0mmisMatch\u001b[0m\u001b[1;33m(\u001b[0m\u001b[0ma\u001b[0m\u001b[1;33m,\u001b[0m\u001b[0mb\u001b[0m\u001b[1;33m)\u001b[0m\u001b[1;33m:\u001b[0m\u001b[1;33m\u001b[0m\u001b[1;33m\u001b[0m\u001b[0m\n\u001b[0;32m      2\u001b[0m     \u001b[0mprint\u001b[0m\u001b[1;33m(\u001b[0m\u001b[0ma\u001b[0m\u001b[1;33m,\u001b[0m\u001b[0mb\u001b[0m\u001b[1;33m)\u001b[0m\u001b[1;33m\u001b[0m\u001b[1;33m\u001b[0m\u001b[0m\n\u001b[1;32m----> 3\u001b[1;33m \u001b[0mmisMatch\u001b[0m\u001b[1;33m(\u001b[0m\u001b[1;36m4\u001b[0m\u001b[1;33m,\u001b[0m\u001b[1;36m5\u001b[0m\u001b[1;33m,\u001b[0m\u001b[1;36m6\u001b[0m\u001b[1;33m)\u001b[0m\u001b[1;33m\u001b[0m\u001b[1;33m\u001b[0m\u001b[0m\n\u001b[0m",
      "\u001b[1;31mTypeError\u001b[0m: misMatch() takes 2 positional arguments but 3 were given"
     ]
    }
   ],
   "source": [
    "def misMatch(a,b):\n",
    "    print(a,b)\n",
    "misMatch(4,5,6)"
   ]
  },
  {
   "cell_type": "markdown",
   "metadata": {},
   "source": [
    "##### function with default value of the parameter\n",
    "Benefit: if you do not pass any value to the fuction, then it will assign the default value"
   ]
  },
  {
   "cell_type": "code",
   "execution_count": 6,
   "metadata": {},
   "outputs": [
    {
     "name": "stdout",
     "output_type": "stream",
     "text": [
      "siddhesh\n",
      "hello2\n"
     ]
    }
   ],
   "source": [
    "def hello2(param1='siddhesh'):\n",
    "    print(param1)\n",
    "hello2()\n",
    "hello2(\"hello2\")"
   ]
  },
  {
   "cell_type": "markdown",
   "metadata": {},
   "source": [
    "###  1.2.1 with multiple parameter and no return type:\n",
    "    def function_name(*param):\n",
    "        statements\n",
    "This type of argumennts/parameters are also known as <b>Arbitrary arguments, *args</b>"
   ]
  },
  {
   "cell_type": "code",
   "execution_count": 7,
   "metadata": {},
   "outputs": [
    {
     "name": "stdout",
     "output_type": "stream",
     "text": [
      "('rina', 'josaph', 'dev')\n",
      "<class 'tuple'>\n",
      "('rina', 1, 2)\n",
      "<class 'tuple'>\n"
     ]
    }
   ],
   "source": [
    "def names(*name):\n",
    "    print(name)\n",
    "    print(type(name))\n",
    "names('rina','josaph','dev')\n",
    "names('rina',1,2)"
   ]
  },
  {
   "cell_type": "code",
   "execution_count": 8,
   "metadata": {},
   "outputs": [
    {
     "name": "stdout",
     "output_type": "stream",
     "text": [
      "Tony\n",
      "Steave\n",
      "Haimdal\n"
     ]
    }
   ],
   "source": [
    "def multiPara(*name):\n",
    "    for i in name:\n",
    "        print(i)\n",
    "multiPara('Tony','Steave','Haimdal')"
   ]
  },
  {
   "cell_type": "code",
   "execution_count": null,
   "metadata": {},
   "outputs": [],
   "source": []
  },
  {
   "cell_type": "code",
   "execution_count": 9,
   "metadata": {},
   "outputs": [
    {
     "name": "stdout",
     "output_type": "stream",
     "text": [
      "hello rina\n",
      "hello ramesh\n",
      "hello kishan\n",
      "rina ramesh\n",
      "rina kishan\n",
      "rina 1\n"
     ]
    }
   ],
   "source": [
    "def names1(hello,*name):\n",
    "    for i in name:\n",
    "        print(hello,i)\n",
    "names1(\"hello\",'rina','ramesh','kishan')\n",
    "#       hello <-----name------------->\n",
    "names1('rina','ramesh','kishan',1)\n",
    "#       hello <-----name--------->"
   ]
  },
  {
   "cell_type": "code",
   "execution_count": null,
   "metadata": {},
   "outputs": [],
   "source": []
  },
  {
   "cell_type": "markdown",
   "metadata": {},
   "source": [
    "Lets check what a function returns when no <b> return</b> statement is defiend"
   ]
  },
  {
   "cell_type": "code",
   "execution_count": 11,
   "metadata": {},
   "outputs": [
    {
     "name": "stdout",
     "output_type": "stream",
     "text": [
      "None\n"
     ]
    }
   ],
   "source": [
    "def call():\n",
    "    pass\n",
    "print(call())"
   ]
  },
  {
   "cell_type": "markdown",
   "metadata": {},
   "source": [
    "##  1.3 with no parameter and a return type\n",
    "    def function_name():\n",
    "        stat()\n",
    "        return x,y,z...or list,tuple... or function(recursion)"
   ]
  },
  {
   "cell_type": "code",
   "execution_count": 13,
   "metadata": {},
   "outputs": [
    {
     "name": "stdout",
     "output_type": "stream",
     "text": [
      "hello3\n",
      "('hello4', 'hello5')\n",
      "hello4 hello5\n",
      "[1, 2, 3, 4]\n"
     ]
    }
   ],
   "source": [
    "def hello3():\n",
    "    return \"hello3\"\n",
    "\n",
    "def hello4_5():\n",
    "    return \"hello4\",\"hello5\"\n",
    "\n",
    "def hello_list():\n",
    "    return [1,2,3,4]\n",
    "\n",
    "\n",
    "\n",
    "print(hello3())\n",
    "print(hello4_5())\n",
    "#or\n",
    "x,y=hello4_5()      # Must remember one thing that the number of returned values should be \n",
    "                     # equal to the number of variables at calling side.\n",
    "print(x,y)\n",
    "print(hello_list())"
   ]
  },
  {
   "cell_type": "code",
   "execution_count": 14,
   "metadata": {},
   "outputs": [
    {
     "ename": "ValueError",
     "evalue": "too many values to unpack (expected 2)",
     "output_type": "error",
     "traceback": [
      "\u001b[1;31m---------------------------------------------------------------------------\u001b[0m",
      "\u001b[1;31mValueError\u001b[0m                                Traceback (most recent call last)",
      "\u001b[1;32m<ipython-input-14-b10f647144ad>\u001b[0m in \u001b[0;36m<module>\u001b[1;34m\u001b[0m\n\u001b[0;32m      1\u001b[0m \u001b[1;32mdef\u001b[0m \u001b[0mmisMatch_return\u001b[0m\u001b[1;33m(\u001b[0m\u001b[1;33m)\u001b[0m\u001b[1;33m:\u001b[0m\u001b[1;33m\u001b[0m\u001b[1;33m\u001b[0m\u001b[0m\n\u001b[0;32m      2\u001b[0m     \u001b[1;32mreturn\u001b[0m \u001b[1;36m1\u001b[0m\u001b[1;33m,\u001b[0m\u001b[1;36m2\u001b[0m\u001b[1;33m,\u001b[0m\u001b[1;36m3\u001b[0m\u001b[1;33m\u001b[0m\u001b[1;33m\u001b[0m\u001b[0m\n\u001b[1;32m----> 3\u001b[1;33m \u001b[0ma\u001b[0m\u001b[1;33m,\u001b[0m\u001b[0mb\u001b[0m \u001b[1;33m=\u001b[0m \u001b[0mmisMatch_return\u001b[0m\u001b[1;33m(\u001b[0m\u001b[1;33m)\u001b[0m\u001b[1;33m\u001b[0m\u001b[1;33m\u001b[0m\u001b[0m\n\u001b[0m",
      "\u001b[1;31mValueError\u001b[0m: too many values to unpack (expected 2)"
     ]
    }
   ],
   "source": [
    "def misMatch_return():\n",
    "    return 1,2,3\n",
    "a,b = misMatch_return()"
   ]
  },
  {
   "cell_type": "markdown",
   "metadata": {},
   "source": [
    "## 1.4 with one param and a return type:\n",
    "    def function_name(param1):\n",
    "        state()\n",
    "        return x,y,z... as above "
   ]
  },
  {
   "cell_type": "code",
   "execution_count": 15,
   "metadata": {},
   "outputs": [
    {
     "data": {
      "text/plain": [
       "'hello6'"
      ]
     },
     "execution_count": 15,
     "metadata": {},
     "output_type": "execute_result"
    }
   ],
   "source": [
    "def hello6(hello6):\n",
    "    return hello6\n",
    "\n",
    "hello6(\"hello6\")"
   ]
  },
  {
   "cell_type": "markdown",
   "metadata": {},
   "source": [
    "# Positional parameter"
   ]
  },
  {
   "cell_type": "code",
   "execution_count": 19,
   "metadata": {},
   "outputs": [
    {
     "name": "stdout",
     "output_type": "stream",
     "text": [
      "a= 10 b= 11\n",
      "21\n",
      "a= 5 b= 6\n",
      "11\n",
      "a= 6 b= 5\n",
      "11\n",
      "a= 0 b= 6\n",
      "6\n",
      "a= 5 b= 7\n",
      "12\n"
     ]
    }
   ],
   "source": [
    "def sum_(a=5,b=7):\n",
    "    print(\"a=\",a,\"b=\",b)\n",
    "    return a+b\n",
    "print(sum_(10,11))\n",
    "print(sum_(a=5,b=6))\n",
    "print(sum_(b=5,a=6))\n",
    "print(sum_(0,6))\n",
    "print(sum_())\n"
   ]
  },
  {
   "cell_type": "markdown",
   "metadata": {},
   "source": [
    "## Arbitrary keyword arguments   **kwargs\n",
    " = Arbitrary arg + keyword arg"
   ]
  },
  {
   "cell_type": "code",
   "execution_count": 21,
   "metadata": {},
   "outputs": [
    {
     "name": "stdout",
     "output_type": "stream",
     "text": [
      "{'fname': 'siddhesh', 'lname': 'jain', 'Branch': 'IT'}\n"
     ]
    }
   ],
   "source": [
    "def ArKey(**student):\n",
    "    print(student)\n",
    "ArKey(fname = 'siddhesh', lname = 'jain',Branch = 'IT')"
   ]
  },
  {
   "cell_type": "code",
   "execution_count": null,
   "metadata": {},
   "outputs": [],
   "source": []
  },
  {
   "cell_type": "markdown",
   "metadata": {},
   "source": [
    "# Recursion Function:\n",
    "    def func_name(param):\n",
    "        stat()\n",
    "        return func_name(param)"
   ]
  },
  {
   "cell_type": "code",
   "execution_count": 24,
   "metadata": {},
   "outputs": [
    {
     "name": "stdout",
     "output_type": "stream",
     "text": [
      "120\n"
     ]
    },
    {
     "data": {
      "text/plain": [
       "720"
      ]
     },
     "execution_count": 24,
     "metadata": {},
     "output_type": "execute_result"
    }
   ],
   "source": [
    "def factorial(number):\n",
    "    if number==1:\n",
    "        return 1\n",
    "    else:\n",
    "        return number*factorial(number-1)\n",
    "print(factorial(5))\n",
    "\n",
    "def sum_of_n(n):\n",
    "    if n==0:\n",
    "        return 0\n",
    "    else:\n",
    "        return n+sum_of_n(n-1)\n",
    "factorial(sum_of_n(3))"
   ]
  },
  {
   "cell_type": "code",
   "execution_count": null,
   "metadata": {},
   "outputs": [],
   "source": [
    "5 *f(4)\n",
    "   4*f(3)\n",
    "     3*f(2)\n",
    "        2*f(1)\n",
    "          1"
   ]
  },
  {
   "cell_type": "code",
   "execution_count": 28,
   "metadata": {},
   "outputs": [],
   "source": [
    "def s():\n",
    "    return 1,2,3\n",
    "l = []\n",
    "l = list(s())"
   ]
  },
  {
   "cell_type": "code",
   "execution_count": 29,
   "metadata": {},
   "outputs": [
    {
     "data": {
      "text/plain": [
       "[1, 2, 3]"
      ]
     },
     "execution_count": 29,
     "metadata": {},
     "output_type": "execute_result"
    }
   ],
   "source": [
    "l"
   ]
  },
  {
   "cell_type": "code",
   "execution_count": null,
   "metadata": {},
   "outputs": [],
   "source": []
  },
  {
   "cell_type": "code",
   "execution_count": 40,
   "metadata": {
    "scrolled": true
   },
   "outputs": [
    {
     "name": "stdout",
     "output_type": "stream",
     "text": [
      "[0, 1, 1, 2, 3]\n"
     ]
    }
   ],
   "source": [
    "def fib(n):\n",
    "    a = 0\n",
    "    b = 1\n",
    "    if n == 1:\n",
    "        return 0\n",
    "    if n == 2:\n",
    "        return [0,1]\n",
    "    lst = []\n",
    "    for i in range(n):\n",
    "        lst.append(a)\n",
    "        c = a+b\n",
    "        a = b\n",
    "        b = c\n",
    "    return lst\n",
    "\n",
    "print(fib(5))"
   ]
  },
  {
   "cell_type": "markdown",
   "metadata": {},
   "source": [
    "0 1 1 2 3 5 8 13\n",
    "1 2 3......"
   ]
  },
  {
   "cell_type": "code",
   "execution_count": null,
   "metadata": {},
   "outputs": [],
   "source": []
  },
  {
   "cell_type": "code",
   "execution_count": 41,
   "metadata": {},
   "outputs": [
    {
     "data": {
      "text/plain": [
       "(((2, 1), 2), (2, 1))"
      ]
     },
     "execution_count": 41,
     "metadata": {},
     "output_type": "execute_result"
    }
   ],
   "source": [
    "def fib(n):\n",
    "    if n < 3:\n",
    "        return n\n",
    "    else:\n",
    "        return fib(n-1),fib(n-2)\n",
    "fib(5)"
   ]
  },
  {
   "cell_type": "code",
   "execution_count": null,
   "metadata": {},
   "outputs": [],
   "source": []
  }
 ],
 "metadata": {
  "kernelspec": {
   "display_name": "Python 3",
   "language": "python",
   "name": "python3"
  },
  "language_info": {
   "codemirror_mode": {
    "name": "ipython",
    "version": 3
   },
   "file_extension": ".py",
   "mimetype": "text/x-python",
   "name": "python",
   "nbconvert_exporter": "python",
   "pygments_lexer": "ipython3",
   "version": "3.8.3"
  }
 },
 "nbformat": 4,
 "nbformat_minor": 2
}
