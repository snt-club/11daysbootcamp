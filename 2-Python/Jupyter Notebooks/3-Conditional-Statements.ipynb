{
 "cells": [
  {
   "attachments": {
    "image.png": {
     "image/png": "[encoded data removed]"
    }
   },
   "cell_type": "markdown",
   "metadata": {
    "slideshow": {
     "slide_type": "slide"
    }
   },
   "source": [
    "# Conditional statements in python\n",
    "\n",
    "![image.png](attachment:image.png)"
   ]
  },
  {
   "attachments": {},
   "cell_type": "markdown",
   "metadata": {
    "slideshow": {
     "slide_type": "slide"
    }
   },
   "source": [
    "Hey guys, welcome to the 30 days of programming. In this lecture, we'll learn the conditional statements in python.\n",
    "If else statements:\n",
    "As you all know about the conditional operators in python which was discussed in the previous videos.\n",
    "Let us have a quick recap of the conditional statements.\n",
    "<ul>\n",
    "<li> Equals: a == b\n",
    "<li> Not Equals: a != b\n",
    "<li> Less than: a < b\n",
    "<li> Less than or equal to: a <= b\n",
    "<li> Greater than: a > b\n",
    "<li> Greater than or equal to: a >= b\n",
    "</ul>\n",
    "An \"if statement\" is written by using the if keyword.<br>\n",
    "Syntax:<br>\n",
    "<code>If &lt;condition&gt; :\n",
    "&lt;indent&gt;Statements\n",
    "      :\n",
    "</code>\n",
    "\n",
    "Example :\n"
   ]
  },
  {
   "cell_type": "code",
   "execution_count": null,
   "metadata": {
    "slideshow": {
     "slide_type": "fragment"
    }
   },
   "outputs": [],
   "source": [
    "a = 33\n",
    "b = 200\n",
    "if b > a:\n",
    "    print(\"b is greater than a\")\n"
   ]
  },
  {
   "cell_type": "markdown",
   "metadata": {},
   "source": [
    "1. We end the if condition(s) with a colon (:)\n",
    "2. To define the scope of the if block we use indentation.(Whitespace before the line)\n",
    "\n",
    "We can use multiple conditions in <b>if</b> using appropriate logical operators<br>\n",
    "for example:"
   ]
  },
  {
   "cell_type": "code",
   "execution_count": null,
   "metadata": {},
   "outputs": [],
   "source": [
    "a = int(input(\"Enter the value for 'a'\"))\n",
    "if a > 5 and a%2 == 0 :\n",
    "    print(\"a is even no  greater than 5\")"
   ]
  },
  {
   "cell_type": "markdown",
   "metadata": {},
   "source": [
    "Let's have one more example for a combination of conditions"
   ]
  },
  {
   "cell_type": "code",
   "execution_count": null,
   "metadata": {},
   "outputs": [],
   "source": [
    "a = True\n",
    "b = False\n",
    "c = True"
   ]
  },
  {
   "cell_type": "code",
   "execution_count": null,
   "metadata": {},
   "outputs": [],
   "source": [
    "if (a or b) and c:\n",
    "    print(\"30dop\")"
   ]
  },
  {
   "cell_type": "markdown",
   "metadata": {},
   "source": [
    "If you don't give indentation then it will raise an error\n"
   ]
  },
  {
   "cell_type": "code",
   "execution_count": null,
   "metadata": {},
   "outputs": [],
   "source": [
    "if 10%2 == 0:\n",
    "print(\"True\")"
   ]
  },
  {
   "cell_type": "markdown",
   "metadata": {},
   "source": [
    "## elif\n",
    "elif means 'else if'<br>\n",
    "if the prvious condition fails then check this condition<br>\n",
    "Example:"
   ]
  },
  {
   "cell_type": "code",
   "execution_count": null,
   "metadata": {},
   "outputs": [],
   "source": [
    "a = int(input('Enter a number '))\n",
    "if a > 0:\n",
    "    print(\"Positive no\")\n",
    "elif a < 0:\n",
    "    print('Negative no')"
   ]
  },
  {
   "cell_type": "markdown",
   "metadata": {},
   "source": [
    "#### Note:\n",
    "elif is always used after a <i>if</i> or <i>elif</i> statement"
   ]
  },
  {
   "cell_type": "code",
   "execution_count": null,
   "metadata": {},
   "outputs": [],
   "source": [
    "a = 5\n",
    "elif a%2 == 1 :\n",
    "    print(\"Odd no\")"
   ]
  },
  {
   "cell_type": "markdown",
   "metadata": {},
   "source": [
    "## else\n",
    "if all the above conditions fails then the <b>else</b> block will be executed"
   ]
  },
  {
   "cell_type": "code",
   "execution_count": null,
   "metadata": {},
   "outputs": [],
   "source": [
    "a = int(input('Enter a number '))\n",
    "if a > 0:\n",
    "    print(\"Positive no\")\n",
    "elif a < 0:\n",
    "    print('Negative no')\n",
    "else:\n",
    "    print(\"Number is zero\")"
   ]
  },
  {
   "cell_type": "markdown",
   "metadata": {},
   "source": [
    "Let's have one more example for even odd:"
   ]
  },
  {
   "cell_type": "code",
   "execution_count": null,
   "metadata": {},
   "outputs": [],
   "source": [
    "a = int(input())\n",
    "if a % 2 == 0:\n",
    "    print(\"NO is even\")\n",
    "else:\n",
    "    print(\"Odd no\")"
   ]
  },
  {
   "cell_type": "markdown",
   "metadata": {},
   "source": [
    "## Short hand if"
   ]
  },
  {
   "cell_type": "code",
   "execution_count": null,
   "metadata": {},
   "outputs": [],
   "source": [
    "a, b =5,4\n",
    "if a > b: print(\"a is greater than b\")"
   ]
  },
  {
   "cell_type": "markdown",
   "metadata": {},
   "source": [
    "## Short Hand If ... Else\n",
    "This technique is known as Ternary Operators"
   ]
  },
  {
   "cell_type": "code",
   "execution_count": null,
   "metadata": {},
   "outputs": [],
   "source": [
    "a, b = 5,4\n",
    "max_number = a if a > b else b\n",
    "max_number"
   ]
  },
  {
   "cell_type": "markdown",
   "metadata": {},
   "source": [
    "## Nested if"
   ]
  },
  {
   "cell_type": "code",
   "execution_count": null,
   "metadata": {},
   "outputs": [],
   "source": [
    "a = int(input('Enter no'))\n",
    "if a > 0:\n",
    "    if a%2 == 0:\n",
    "        print('Even no')\n",
    "    else:\n",
    "        print('Odd no')\n",
    "else:\n",
    "    print('Non positive no')"
   ]
  },
  {
   "cell_type": "markdown",
   "metadata": {},
   "source": [
    "### The pass statement "
   ]
  },
  {
   "cell_type": "code",
   "execution_count": null,
   "metadata": {},
   "outputs": [],
   "source": [
    "a, b = 5, 3\n",
    "if a > b:\n",
    "    pass\n",
    "else:\n",
    "    print('Else is printed')"
   ]
  },
  {
   "cell_type": "code",
   "execution_count": null,
   "metadata": {},
   "outputs": [],
   "source": []
  },
  {
   "cell_type": "code",
   "execution_count": null,
   "metadata": {},
   "outputs": [],
   "source": []
  },
  {
   "attachments": {
    "image.png": {
     "image/png": "[encoded data removed]"
    }
   },
   "cell_type": "markdown",
   "metadata": {},
   "source": [
    "# Loop in python\n",
    "![image.png](attachment:image.png)\n",
    "## Need of loop\n",
    "        When we need to execute some statement repeatedly in any order (or not). We use loop statements\n",
    "    python has two loop commands\n",
    "    1. while loop\n",
    "    2. for loop"
   ]
  },
  {
   "cell_type": "markdown",
   "metadata": {},
   "source": [
    "## While loop\n",
    "        With the while loop we can execute a set of statements as long as a condition is true.\n",
    "         "
   ]
  },
  {
   "cell_type": "code",
   "execution_count": null,
   "metadata": {},
   "outputs": [],
   "source": [
    "# To print numbers from 1 to 5\n",
    "i = 1\n",
    "while i < 6:\n",
    "    print(i, end= ' ')\n",
    "    i+=1    # i = i+1\n"
   ]
  },
  {
   "cell_type": "markdown",
   "metadata": {},
   "source": [
    "### Note:\n",
    "1. Make sure your code does not fall in an infinite loop (if not required).\n",
    "<code>\n",
    "    i = 0 \n",
    "    while i < 5:\n",
    "       print(i)\n",
    "</code>\n",
    "   ** This code will run infinite times since there is no increament of i\n",
    " \n",
    "2. Never initialize the looping variable with a fixed value inside the loop.<br>\n",
    "    If you,then the loop will fall in infinite loop "
   ]
  },
  {
   "cell_type": "code",
   "execution_count": null,
   "metadata": {},
   "outputs": [],
   "source": [
    "# i = 0 \n",
    "# while i<5:\n",
    "#     print(i)"
   ]
  },
  {
   "cell_type": "code",
   "execution_count": null,
   "metadata": {},
   "outputs": [],
   "source": []
  },
  {
   "cell_type": "markdown",
   "metadata": {},
   "source": [
    "## break the loop\n",
    "We can stop the loop even if the while condition is true"
   ]
  },
  {
   "cell_type": "code",
   "execution_count": 1,
   "metadata": {},
   "outputs": [
    {
     "name": "stdout",
     "output_type": "stream",
     "text": [
      "0 1 2 3 4 5 6 "
     ]
    }
   ],
   "source": [
    "i = 0\n",
    "while i<10:\n",
    "    print(i,end = \" \")\n",
    "    if i >5:\n",
    "        break\n",
    "    i+=1"
   ]
  },
  {
   "cell_type": "markdown",
   "metadata": {},
   "source": [
    "### Continue \n",
    "With the continue statement we can stop the current iteration, and continue with the next:"
   ]
  },
  {
   "cell_type": "code",
   "execution_count": 2,
   "metadata": {},
   "outputs": [
    {
     "name": "stdout",
     "output_type": "stream",
     "text": [
      "1 2 4 5 "
     ]
    }
   ],
   "source": [
    "i = 0\n",
    "while i < 6:\n",
    "  i += 1\n",
    "  if i % 3 == 0:\n",
    "    continue\n",
    "  print(i, end= ' ')"
   ]
  },
  {
   "cell_type": "markdown",
   "metadata": {},
   "source": [
    "### loop - else statements\n",
    "With the else statement we can run a block of code once when the <b>while</b> condition no longer is true:"
   ]
  },
  {
   "cell_type": "code",
   "execution_count": 3,
   "metadata": {},
   "outputs": [
    {
     "name": "stdout",
     "output_type": "stream",
     "text": [
      "0 1 2 3 4 5 \n",
      "else part executed\n"
     ]
    }
   ],
   "source": [
    "i = 0\n",
    "while i<6 :\n",
    "    print(i, end= \" \")\n",
    "    i+=1\n",
    "else:\n",
    "    print(\"\\nelse part executed\")\n",
    "    "
   ]
  },
  {
   "cell_type": "markdown",
   "metadata": {},
   "source": [
    "But if you ended the loop using the break statement then the else block will not be executed."
   ]
  },
  {
   "cell_type": "code",
   "execution_count": 4,
   "metadata": {},
   "outputs": [
    {
     "name": "stdout",
     "output_type": "stream",
     "text": [
      "0 1 2 3 4 5 "
     ]
    }
   ],
   "source": [
    "i = 0\n",
    "while True:\n",
    "    print(i,end=\" \")\n",
    "    if i == 5:\n",
    "        break\n",
    "    i+=1\n",
    "else:\n",
    "    print(\"Else executed\")\n"
   ]
  },
  {
   "cell_type": "markdown",
   "metadata": {},
   "source": [
    " \n",
    " Before starting for loops we will take a look at range function in python.<br>\n",
    "Syntax:\n",
    "<code>\n",
    "    range(start, end, step_size)\n",
    "</code>\n",
    "start(inclusive) - lower limit, By default, it starts with 0 if not specified.<br>\n",
    "end (exclusive) - upper limitgenerate numbers up to this number.\n",
    "step_size - Difference between any two numbers, by default it is 1"
   ]
  },
  {
   "cell_type": "markdown",
   "metadata": {},
   "source": [
    "## For loop\n"
   ]
  },
  {
   "cell_type": "code",
   "execution_count": 5,
   "metadata": {},
   "outputs": [
    {
     "name": "stdout",
     "output_type": "stream",
     "text": [
      "0 1 2 3 4 "
     ]
    }
   ],
   "source": [
    "for i in range(5):\n",
    "    print(i, end = \" \")"
   ]
  },
  {
   "cell_type": "code",
   "execution_count": 6,
   "metadata": {},
   "outputs": [
    {
     "name": "stdout",
     "output_type": "stream",
     "text": [
      "11 15 19 23 "
     ]
    }
   ],
   "source": [
    "for num in range(11,25,4):\n",
    "    print(num,end = \" \")"
   ]
  },
  {
   "cell_type": "markdown",
   "metadata": {},
   "source": [
    "Numbers selected with step 4 as:-  <b>11</b>,12,13,14,<b>15</b>,16,17,18,<b>19</b>,20,21,22,<b>23</b>,24"
   ]
  },
  {
   "cell_type": "markdown",
   "metadata": {},
   "source": [
    "##### for loop on a list"
   ]
  },
  {
   "cell_type": "code",
   "execution_count": 7,
   "metadata": {},
   "outputs": [
    {
     "name": "stdout",
     "output_type": "stream",
     "text": [
      "apple banana orange "
     ]
    }
   ],
   "source": [
    "fruits = ['apple', 'banana', 'orange']\n",
    "for i in fruits:\n",
    "    print(i,end = \" \")"
   ]
  },
  {
   "cell_type": "markdown",
   "metadata": {},
   "source": [
    "##### for loop on a dictionary"
   ]
  },
  {
   "cell_type": "code",
   "execution_count": 8,
   "metadata": {},
   "outputs": [
    {
     "name": "stdout",
     "output_type": "stream",
     "text": [
      "subject Maths : Marks: 78\n",
      "subject English : Marks: 91\n",
      "subject Science : Marks: 89\n"
     ]
    }
   ],
   "source": [
    "dict_marks = {'Maths': 78, 'English': 91, 'Science': 89}\n",
    "for i in dict_marks:\n",
    "    print('subject {} : Marks: {}'.format(i,dict_marks[i]))\n"
   ]
  },
  {
   "cell_type": "markdown",
   "metadata": {},
   "source": [
    "##### Loop on a string"
   ]
  },
  {
   "cell_type": "code",
   "execution_count": 9,
   "metadata": {},
   "outputs": [
    {
     "name": "stdout",
     "output_type": "stream",
     "text": [
      "s i d d h e s h "
     ]
    }
   ],
   "source": [
    "for i in 'siddhesh':\n",
    "    print(i,end= \" \")\n",
    "    "
   ]
  },
  {
   "cell_type": "code",
   "execution_count": null,
   "metadata": {},
   "outputs": [],
   "source": []
  },
  {
   "cell_type": "markdown",
   "metadata": {},
   "source": [
    "### Creating a list using for loop"
   ]
  },
  {
   "cell_type": "code",
   "execution_count": 10,
   "metadata": {},
   "outputs": [
    {
     "name": "stdout",
     "output_type": "stream",
     "text": [
      "[0, 1, 2, 3, 4]\n"
     ]
    }
   ],
   "source": [
    "numbers = [i for i in range(5)]\n",
    "print(numbers)"
   ]
  },
  {
   "cell_type": "markdown",
   "metadata": {},
   "source": [
    "#### Creating a list using for loop with if condition"
   ]
  },
  {
   "cell_type": "code",
   "execution_count": 11,
   "metadata": {},
   "outputs": [
    {
     "name": "stdout",
     "output_type": "stream",
     "text": [
      "1 is a member\n",
      "27 is a member\n",
      "125 is a member\n",
      "343 is a member\n",
      "729 is a member\n"
     ]
    }
   ],
   "source": [
    "cube_numbers = [n**3 for n in range(1,10) if n%2 == 1]\n",
    "for name in cube_numbers:\n",
    "  print('{} is a member'.format(name))"
   ]
  },
  {
   "cell_type": "markdown",
   "metadata": {},
   "source": [
    "### Break , continue and else with for loop"
   ]
  },
  {
   "cell_type": "code",
   "execution_count": 13,
   "metadata": {},
   "outputs": [
    {
     "name": "stdout",
     "output_type": "stream",
     "text": [
      "1 2 4 5 7 8 Condition in for is false now\n"
     ]
    }
   ],
   "source": [
    "for i in range(0,10):\n",
    "    if i % 3==0: continue\n",
    "    if i > 12: break\n",
    "    print(i, end= \" \")\n",
    "    \n",
    "else:\n",
    "    print(\"Condition in for is false now\")"
   ]
  },
  {
   "cell_type": "markdown",
   "metadata": {},
   "source": [
    "## Nested for loops"
   ]
  },
  {
   "cell_type": "code",
   "execution_count": 14,
   "metadata": {},
   "outputs": [
    {
     "name": "stdout",
     "output_type": "stream",
     "text": [
      "# # # # # \n",
      "# # # # \n",
      "# # # \n",
      "# # \n",
      "# \n"
     ]
    }
   ],
   "source": [
    "for i in range(5):\n",
    "    for j in range(i,5):\n",
    "        print(\"# \",end= \"\")\n",
    "    print()"
   ]
  },
  {
   "cell_type": "code",
   "execution_count": 15,
   "metadata": {},
   "outputs": [
    {
     "name": "stdout",
     "output_type": "stream",
     "text": [
      "# \n",
      "# # \n",
      "# # # \n",
      "# # # # \n",
      "# # # # # \n"
     ]
    }
   ],
   "source": [
    "for i in range(5):\n",
    "    for j in range(i+1):\n",
    "        print(\"# \",end= \"\")\n",
    "    print()"
   ]
  },
  {
   "cell_type": "code",
   "execution_count": null,
   "metadata": {},
   "outputs": [],
   "source": []
  }
 ],
 "metadata": {
  "kernelspec": {
   "display_name": "Python 3",
   "language": "python",
   "name": "python3"
  },
  "language_info": {
   "codemirror_mode": {
    "name": "ipython",
    "version": 3
   },
   "file_extension": ".py",
   "mimetype": "text/x-python",
   "name": "python",
   "nbconvert_exporter": "python",
   "pygments_lexer": "ipython3",
   "version": "3.7.4"
  }
 },
 "nbformat": 4,
 "nbformat_minor": 4
}
