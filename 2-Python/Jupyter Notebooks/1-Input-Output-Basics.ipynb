{
 "cells": [
  {
   "cell_type": "markdown",
   "metadata": {},
   "source": [
    "# print() in python\n"
   ]
  },
  {
   "cell_type": "markdown",
   "metadata": {},
   "source": [
    "print() in python is used to print your message or value of the variable on the output screen.\n",
    "###### Syntax: \n",
    "print(object(s), sep=separator, end=end, file=file)\n",
    "object(s)\tAny object, and as many as you like.\n",
    "sep=        'separator'\tOptional. Specify how to separate the objects\n",
    "end='end'\tOptional. Specify what to print at the end. Default is '\\n' \n",
    "file        Optional. An object with a write method. Default is sys.stdout which is your output screen\n",
    "\n",
    "<ul>\n",
    "    <li>Print a message </li>\n",
    "    <li>Print one or more variable(s)</li>\n",
    "    <li>Print any object</li>\n",
    "</ul>"
   ]
  },
  {
   "cell_type": "code",
   "execution_count": 1,
   "metadata": {},
   "outputs": [
    {
     "name": "stdout",
     "output_type": "stream",
     "text": [
      "Hello world\n",
      "Input-output-functions\n",
      "Welcome to the + 30 days of programming\n"
     ]
    }
   ],
   "source": [
    "print('Hello world')\n",
    "print('Input', 'output', 'functions',sep = \"-\")\n",
    "print('Welcome to the',end = \" + \")\n",
    "print(\"30 days of programming\")"
   ]
  },
  {
   "cell_type": "markdown",
   "metadata": {},
   "source": [
    "-------------------------------------------------------------------\n",
    "File option in python\n",
    "\n",
    "(optional) We will learn this method in FILE HANDLING."
   ]
  },
  {
   "cell_type": "code",
   "execution_count": 4,
   "metadata": {},
   "outputs": [
    {
     "name": "stdout",
     "output_type": "stream",
     "text": [
      "Pretty cool, huh!\n",
      "\n"
     ]
    }
   ],
   "source": [
    "\n",
    "\n",
    "f = open('python.txt', 'w')             # Created a file\n",
    "print('Pretty cool, huh!', file = f)    # Write in the file\n",
    "f.close()\n",
    "\n",
    "f = open('python.txt')                  # open the file as read mode\n",
    "print(f.read())                         # read the content of the file and print it"
   ]
  },
  {
   "cell_type": "markdown",
   "metadata": {},
   "source": [
    "### Different ways to print the values of variable in python"
   ]
  },
  {
   "cell_type": "code",
   "execution_count": 5,
   "metadata": {},
   "outputs": [],
   "source": [
    "x = 2\n",
    "y = 'Hi'"
   ]
  },
  {
   "cell_type": "code",
   "execution_count": 7,
   "metadata": {},
   "outputs": [
    {
     "name": "stdout",
     "output_type": "stream",
     "text": [
      "x= 2 y= Hi\n",
      "x= 2 y= Hi\n",
      "x= 2 y= Hi\n"
     ]
    }
   ],
   "source": [
    "print(\"x=\",x,'y=', y)            ## Note ','(coma) in python automatically adds an addtional space while printing.\n",
    "print(\"x= {0} y= {1}\".format(x,y))\n",
    "print(\"x= %d y= %s\"%(x,y))"
   ]
  },
  {
   "cell_type": "markdown",
   "metadata": {},
   "source": [
    "In the last print method we have used %d and %s.<br>\n",
    "What is this?<br>\n",
    "These are known as format specifiers.<br>\n",
    "Since x contains an integer value, so x is of integer type and thus we used %d.<br>\n",
    "Similarly, y is of string type, and thus we use %s.\n",
    "<table>\n",
    "    <tr>\n",
    "        <th>Data type </th>\n",
    "        <th>Format specifier</th>\n",
    "    </tr>\n",
    "    <tr>\n",
    "      <td>int</td>\n",
    "      <td>%d</td>\n",
    "    </tr>\n",
    "    <tr>\n",
    "      <td>float</td>\n",
    "      <td>%f or %g</td>\n",
    "    </tr>\n",
    "    <tr>\n",
    "      <td>string</td>\n",
    "      <td>%s</td>\n",
    "    </tr>\n",
    "</table><br>\n",
    "\n",
    "You can check the type of the varibale using type()\n"
   ]
  },
  {
   "cell_type": "code",
   "execution_count": 8,
   "metadata": {},
   "outputs": [],
   "source": [
    "x = 15.545353"
   ]
  },
  {
   "cell_type": "code",
   "execution_count": 9,
   "metadata": {},
   "outputs": [
    {
     "data": {
      "text/plain": [
       "float"
      ]
     },
     "execution_count": 9,
     "metadata": {},
     "output_type": "execute_result"
    }
   ],
   "source": [
    "type(x)"
   ]
  },
  {
   "cell_type": "code",
   "execution_count": 10,
   "metadata": {},
   "outputs": [
    {
     "name": "stdout",
     "output_type": "stream",
     "text": [
      "15.545\n",
      "15.5\n"
     ]
    }
   ],
   "source": [
    "print(\"%.3f\"%x)             # here .3 defines 3 digits after decimal\n",
    "print(\"{:.3}\".format(x))    # here .3 defines the no of digits from the right"
   ]
  },
  {
   "cell_type": "markdown",
   "metadata": {},
   "source": [
    "## Input() in python\n",
    "\n",
    "In python we can assign value to the variable by user at run time"
   ]
  },
  {
   "cell_type": "code",
   "execution_count": 11,
   "metadata": {},
   "outputs": [
    {
     "name": "stdout",
     "output_type": "stream",
     "text": [
      "4\n",
      "Enter input3\n"
     ]
    }
   ],
   "source": [
    "a = input()\n",
    "b = input(\"Enter input\")"
   ]
  },
  {
   "cell_type": "markdown",
   "metadata": {},
   "source": [
    "#### Note:\n",
    "The type of the varible which os assigned by input will always be string."
   ]
  },
  {
   "cell_type": "code",
   "execution_count": 12,
   "metadata": {},
   "outputs": [
    {
     "data": {
      "text/plain": [
       "str"
      ]
     },
     "execution_count": 12,
     "metadata": {},
     "output_type": "execute_result"
    }
   ],
   "source": [
    "type(a)"
   ]
  },
  {
   "cell_type": "markdown",
   "metadata": {},
   "source": [
    "So, we have to convert this as of our need."
   ]
  },
  {
   "cell_type": "code",
   "execution_count": 13,
   "metadata": {},
   "outputs": [
    {
     "name": "stdout",
     "output_type": "stream",
     "text": [
      "Enter no. 4\n",
      "Enter no. 5\n",
      "Type of a <class 'int'>\n",
      "Type of b <class 'float'>\n"
     ]
    }
   ],
   "source": [
    "a = int(input('Enter no. '))\n",
    "b = float(input('Enter no. '))\n",
    "print('Type of a',type(a))\n",
    "print('Type of b',type(b))"
   ]
  },
  {
   "cell_type": "code",
   "execution_count": 14,
   "metadata": {},
   "outputs": [
    {
     "name": "stdout",
     "output_type": "stream",
     "text": [
      "Enter datastring\n"
     ]
    },
    {
     "ename": "ValueError",
     "evalue": "invalid literal for int() with base 10: 'string'",
     "output_type": "error",
     "traceback": [
      "\u001b[1;31m---------------------------------------------------------------------------\u001b[0m",
      "\u001b[1;31mValueError\u001b[0m                                Traceback (most recent call last)",
      "\u001b[1;32m<ipython-input-14-4e62f22a1473>\u001b[0m in \u001b[0;36m<module>\u001b[1;34m\u001b[0m\n\u001b[1;32m----> 1\u001b[1;33m \u001b[0ma\u001b[0m \u001b[1;33m=\u001b[0m \u001b[0mint\u001b[0m\u001b[1;33m(\u001b[0m\u001b[0minput\u001b[0m\u001b[1;33m(\u001b[0m\u001b[1;34m\"Enter data\"\u001b[0m\u001b[1;33m)\u001b[0m\u001b[1;33m)\u001b[0m\u001b[1;33m\u001b[0m\u001b[1;33m\u001b[0m\u001b[0m\n\u001b[0m",
      "\u001b[1;31mValueError\u001b[0m: invalid literal for int() with base 10: 'string'"
     ]
    }
   ],
   "source": [
    "a = int(input(\"Enter data\"))"
   ]
  },
  {
   "cell_type": "code",
   "execution_count": null,
   "metadata": {},
   "outputs": [],
   "source": []
  }
 ],
 "metadata": {
  "kernelspec": {
   "display_name": "Python 3",
   "language": "python",
   "name": "python3"
  },
  "language_info": {
   "codemirror_mode": {
    "name": "ipython",
    "version": 3
   },
   "file_extension": ".py",
   "mimetype": "text/x-python",
   "name": "python",
   "nbconvert_exporter": "python",
   "pygments_lexer": "ipython3",
   "version": "3.7.4"
  }
 },
 "nbformat": 4,
 "nbformat_minor": 4
}
